{
 "cells": [
  {
   "cell_type": "markdown",
   "metadata": {},
   "source": [
    "Natalie LaLuzerne"
   ]
  },
  {
   "cell_type": "markdown",
   "metadata": {},
   "source": [
    "For this project, I chose to use data about NFL games. The data contains information on NFL football games including the teams involved in the game, which team was home and which team was away, the score of each team, which team won, etc. \n",
    "\n",
    "Visualization and storytelling could help describe this data set and establish additional value in a few differnt ways.\n",
    "1. By using bar plots, I can examine and visualize win percentages of home and away games of a particular NFL team to see if the team wins more home or away games. The bar plot will be able to clearly show the distribution of win percentages of home and away games, and may even display season-to-season trends like whether a particular coach or quarterback was successful or not.\n",
    "2. By using box plots, I can determine the median win percentage of home and away games of a particular NFL team in both the regular season and the post season, as well as calculate the 25th and 75th percentiles, the minimum and maximum scores, and determine if there are any outlier scores.\n",
    "3. By using violin plots, I can calculate the median scores of home and away games of a particular NFL team in the regular and post seasons, as well as calculate the 25th and 75th percentile of scores, and the minimum and maximum scores. The violin plots will also tell us the frequency that each of the scores occur in home and away games."
   ]
  },
  {
   "cell_type": "markdown",
   "metadata": {},
   "source": [
    "Imports"
   ]
  },
  {
   "cell_type": "code",
   "execution_count": 1,
   "metadata": {},
   "outputs": [],
   "source": [
    "import numpy as np\n",
    "import pandas as pd\n",
    "import matplotlib.pyplot as plt\n",
    "import seaborn as sns"
   ]
  },
  {
   "cell_type": "markdown",
   "metadata": {},
   "source": [
    "Constants"
   ]
  },
  {
   "cell_type": "code",
   "execution_count": 2,
   "metadata": {},
   "outputs": [],
   "source": [
    "data_path = r'..\\Data\\nfl_games.csv'"
   ]
  },
  {
   "cell_type": "markdown",
   "metadata": {},
   "source": [
    "Read in the data set"
   ]
  },
  {
   "cell_type": "code",
   "execution_count": 3,
   "metadata": {},
   "outputs": [],
   "source": [
    "df = pd.read_csv( data_path )"
   ]
  },
  {
   "cell_type": "code",
   "execution_count": 4,
   "metadata": {},
   "outputs": [
    {
     "data": {
      "text/html": [
       "<div>\n",
       "<style scoped>\n",
       "    .dataframe tbody tr th:only-of-type {\n",
       "        vertical-align: middle;\n",
       "    }\n",
       "\n",
       "    .dataframe tbody tr th {\n",
       "        vertical-align: top;\n",
       "    }\n",
       "\n",
       "    .dataframe thead th {\n",
       "        text-align: right;\n",
       "    }\n",
       "</style>\n",
       "<table border=\"1\" class=\"dataframe\">\n",
       "  <thead>\n",
       "    <tr style=\"text-align: right;\">\n",
       "      <th></th>\n",
       "      <th>date</th>\n",
       "      <th>season</th>\n",
       "      <th>neutral</th>\n",
       "      <th>playoff</th>\n",
       "      <th>team1</th>\n",
       "      <th>team2</th>\n",
       "      <th>elo1</th>\n",
       "      <th>elo2</th>\n",
       "      <th>elo_prob1</th>\n",
       "      <th>score1</th>\n",
       "      <th>score2</th>\n",
       "      <th>result1</th>\n",
       "    </tr>\n",
       "  </thead>\n",
       "  <tbody>\n",
       "    <tr>\n",
       "      <td>0</td>\n",
       "      <td>1920-09-26</td>\n",
       "      <td>1920</td>\n",
       "      <td>0</td>\n",
       "      <td>0</td>\n",
       "      <td>RII</td>\n",
       "      <td>STP</td>\n",
       "      <td>1503.947</td>\n",
       "      <td>1300.000</td>\n",
       "      <td>0.824651</td>\n",
       "      <td>48</td>\n",
       "      <td>0</td>\n",
       "      <td>1.0</td>\n",
       "    </tr>\n",
       "    <tr>\n",
       "      <td>1</td>\n",
       "      <td>1920-10-03</td>\n",
       "      <td>1920</td>\n",
       "      <td>0</td>\n",
       "      <td>0</td>\n",
       "      <td>AKR</td>\n",
       "      <td>WHE</td>\n",
       "      <td>1503.420</td>\n",
       "      <td>1300.000</td>\n",
       "      <td>0.824212</td>\n",
       "      <td>43</td>\n",
       "      <td>0</td>\n",
       "      <td>1.0</td>\n",
       "    </tr>\n",
       "    <tr>\n",
       "      <td>2</td>\n",
       "      <td>1920-10-03</td>\n",
       "      <td>1920</td>\n",
       "      <td>0</td>\n",
       "      <td>0</td>\n",
       "      <td>RCH</td>\n",
       "      <td>ABU</td>\n",
       "      <td>1503.420</td>\n",
       "      <td>1300.000</td>\n",
       "      <td>0.824212</td>\n",
       "      <td>10</td>\n",
       "      <td>0</td>\n",
       "      <td>1.0</td>\n",
       "    </tr>\n",
       "    <tr>\n",
       "      <td>3</td>\n",
       "      <td>1920-10-03</td>\n",
       "      <td>1920</td>\n",
       "      <td>0</td>\n",
       "      <td>0</td>\n",
       "      <td>DAY</td>\n",
       "      <td>COL</td>\n",
       "      <td>1493.002</td>\n",
       "      <td>1504.908</td>\n",
       "      <td>0.575819</td>\n",
       "      <td>14</td>\n",
       "      <td>0</td>\n",
       "      <td>1.0</td>\n",
       "    </tr>\n",
       "    <tr>\n",
       "      <td>4</td>\n",
       "      <td>1920-10-03</td>\n",
       "      <td>1920</td>\n",
       "      <td>0</td>\n",
       "      <td>0</td>\n",
       "      <td>RII</td>\n",
       "      <td>MUN</td>\n",
       "      <td>1516.108</td>\n",
       "      <td>1478.004</td>\n",
       "      <td>0.644171</td>\n",
       "      <td>45</td>\n",
       "      <td>0</td>\n",
       "      <td>1.0</td>\n",
       "    </tr>\n",
       "  </tbody>\n",
       "</table>\n",
       "</div>"
      ],
      "text/plain": [
       "         date  season  neutral  playoff team1 team2      elo1      elo2  \\\n",
       "0  1920-09-26    1920        0        0   RII   STP  1503.947  1300.000   \n",
       "1  1920-10-03    1920        0        0   AKR   WHE  1503.420  1300.000   \n",
       "2  1920-10-03    1920        0        0   RCH   ABU  1503.420  1300.000   \n",
       "3  1920-10-03    1920        0        0   DAY   COL  1493.002  1504.908   \n",
       "4  1920-10-03    1920        0        0   RII   MUN  1516.108  1478.004   \n",
       "\n",
       "   elo_prob1  score1  score2  result1  \n",
       "0   0.824651      48       0      1.0  \n",
       "1   0.824212      43       0      1.0  \n",
       "2   0.824212      10       0      1.0  \n",
       "3   0.575819      14       0      1.0  \n",
       "4   0.644171      45       0      1.0  "
      ]
     },
     "execution_count": 4,
     "metadata": {},
     "output_type": "execute_result"
    }
   ],
   "source": [
    "df.head()"
   ]
  },
  {
   "cell_type": "markdown",
   "metadata": {},
   "source": [
    "Let's add a 'result2' column for ease of use later on when we are aggregating away game win percentages."
   ]
  },
  {
   "cell_type": "code",
   "execution_count": 5,
   "metadata": {},
   "outputs": [],
   "source": [
    "df[ 'result2' ] = df[ 'result1' ]\n",
    "df.loc[ df[ 'result1' ] == 1.0, 'result2' ] = 0.0\n",
    "df.loc[ df[ 'result1' ] == 0.0, 'result2' ] = 1.0"
   ]
  },
  {
   "cell_type": "code",
   "execution_count": 6,
   "metadata": {},
   "outputs": [
    {
     "data": {
      "text/html": [
       "<div>\n",
       "<style scoped>\n",
       "    .dataframe tbody tr th:only-of-type {\n",
       "        vertical-align: middle;\n",
       "    }\n",
       "\n",
       "    .dataframe tbody tr th {\n",
       "        vertical-align: top;\n",
       "    }\n",
       "\n",
       "    .dataframe thead th {\n",
       "        text-align: right;\n",
       "    }\n",
       "</style>\n",
       "<table border=\"1\" class=\"dataframe\">\n",
       "  <thead>\n",
       "    <tr style=\"text-align: right;\">\n",
       "      <th></th>\n",
       "      <th>date</th>\n",
       "      <th>season</th>\n",
       "      <th>neutral</th>\n",
       "      <th>playoff</th>\n",
       "      <th>team1</th>\n",
       "      <th>team2</th>\n",
       "      <th>elo1</th>\n",
       "      <th>elo2</th>\n",
       "      <th>elo_prob1</th>\n",
       "      <th>score1</th>\n",
       "      <th>score2</th>\n",
       "      <th>result1</th>\n",
       "      <th>result2</th>\n",
       "    </tr>\n",
       "  </thead>\n",
       "  <tbody>\n",
       "    <tr>\n",
       "      <td>0</td>\n",
       "      <td>1920-09-26</td>\n",
       "      <td>1920</td>\n",
       "      <td>0</td>\n",
       "      <td>0</td>\n",
       "      <td>RII</td>\n",
       "      <td>STP</td>\n",
       "      <td>1503.947</td>\n",
       "      <td>1300.000</td>\n",
       "      <td>0.824651</td>\n",
       "      <td>48</td>\n",
       "      <td>0</td>\n",
       "      <td>1.0</td>\n",
       "      <td>0.0</td>\n",
       "    </tr>\n",
       "    <tr>\n",
       "      <td>1</td>\n",
       "      <td>1920-10-03</td>\n",
       "      <td>1920</td>\n",
       "      <td>0</td>\n",
       "      <td>0</td>\n",
       "      <td>AKR</td>\n",
       "      <td>WHE</td>\n",
       "      <td>1503.420</td>\n",
       "      <td>1300.000</td>\n",
       "      <td>0.824212</td>\n",
       "      <td>43</td>\n",
       "      <td>0</td>\n",
       "      <td>1.0</td>\n",
       "      <td>0.0</td>\n",
       "    </tr>\n",
       "    <tr>\n",
       "      <td>2</td>\n",
       "      <td>1920-10-03</td>\n",
       "      <td>1920</td>\n",
       "      <td>0</td>\n",
       "      <td>0</td>\n",
       "      <td>RCH</td>\n",
       "      <td>ABU</td>\n",
       "      <td>1503.420</td>\n",
       "      <td>1300.000</td>\n",
       "      <td>0.824212</td>\n",
       "      <td>10</td>\n",
       "      <td>0</td>\n",
       "      <td>1.0</td>\n",
       "      <td>0.0</td>\n",
       "    </tr>\n",
       "    <tr>\n",
       "      <td>3</td>\n",
       "      <td>1920-10-03</td>\n",
       "      <td>1920</td>\n",
       "      <td>0</td>\n",
       "      <td>0</td>\n",
       "      <td>DAY</td>\n",
       "      <td>COL</td>\n",
       "      <td>1493.002</td>\n",
       "      <td>1504.908</td>\n",
       "      <td>0.575819</td>\n",
       "      <td>14</td>\n",
       "      <td>0</td>\n",
       "      <td>1.0</td>\n",
       "      <td>0.0</td>\n",
       "    </tr>\n",
       "    <tr>\n",
       "      <td>4</td>\n",
       "      <td>1920-10-03</td>\n",
       "      <td>1920</td>\n",
       "      <td>0</td>\n",
       "      <td>0</td>\n",
       "      <td>RII</td>\n",
       "      <td>MUN</td>\n",
       "      <td>1516.108</td>\n",
       "      <td>1478.004</td>\n",
       "      <td>0.644171</td>\n",
       "      <td>45</td>\n",
       "      <td>0</td>\n",
       "      <td>1.0</td>\n",
       "      <td>0.0</td>\n",
       "    </tr>\n",
       "  </tbody>\n",
       "</table>\n",
       "</div>"
      ],
      "text/plain": [
       "         date  season  neutral  playoff team1 team2      elo1      elo2  \\\n",
       "0  1920-09-26    1920        0        0   RII   STP  1503.947  1300.000   \n",
       "1  1920-10-03    1920        0        0   AKR   WHE  1503.420  1300.000   \n",
       "2  1920-10-03    1920        0        0   RCH   ABU  1503.420  1300.000   \n",
       "3  1920-10-03    1920        0        0   DAY   COL  1493.002  1504.908   \n",
       "4  1920-10-03    1920        0        0   RII   MUN  1516.108  1478.004   \n",
       "\n",
       "   elo_prob1  score1  score2  result1  result2  \n",
       "0   0.824651      48       0      1.0      0.0  \n",
       "1   0.824212      43       0      1.0      0.0  \n",
       "2   0.824212      10       0      1.0      0.0  \n",
       "3   0.575819      14       0      1.0      0.0  \n",
       "4   0.644171      45       0      1.0      0.0  "
      ]
     },
     "execution_count": 6,
     "metadata": {},
     "output_type": "execute_result"
    }
   ],
   "source": [
    "df.head()"
   ]
  },
  {
   "cell_type": "markdown",
   "metadata": {},
   "source": [
    "My favorite NFL team is the Green Bay Packers. Let's take a look at The Pack. I'll separate out the regular season and post season games, as well separate the home vs. away games in each of the season types. In this data set, home games are 'team1' and away games are 'team2'."
   ]
  },
  {
   "cell_type": "code",
   "execution_count": 7,
   "metadata": {},
   "outputs": [],
   "source": [
    "packers_home = df.loc[ df[ 'team1' ] == 'GB' ]\n",
    "packers_away = df.loc[ df[ 'team2' ] == 'GB' ]\n",
    "\n",
    "home = packers_home.loc[ df[ 'playoff' ] == 0 ]\n",
    "away = packers_away.loc[ df[ 'playoff' ] == 0 ]\n",
    "\n",
    "home_po = packers_home.loc[ df[ 'playoff' ] == 1 ]\n",
    "away_po = packers_away.loc[ df[ 'playoff' ] == 1 ]"
   ]
  },
  {
   "cell_type": "markdown",
   "metadata": {},
   "source": [
    "Display our new data sets"
   ]
  },
  {
   "cell_type": "code",
   "execution_count": 8,
   "metadata": {},
   "outputs": [
    {
     "data": {
      "text/html": [
       "<div>\n",
       "<style scoped>\n",
       "    .dataframe tbody tr th:only-of-type {\n",
       "        vertical-align: middle;\n",
       "    }\n",
       "\n",
       "    .dataframe tbody tr th {\n",
       "        vertical-align: top;\n",
       "    }\n",
       "\n",
       "    .dataframe thead th {\n",
       "        text-align: right;\n",
       "    }\n",
       "</style>\n",
       "<table border=\"1\" class=\"dataframe\">\n",
       "  <thead>\n",
       "    <tr style=\"text-align: right;\">\n",
       "      <th></th>\n",
       "      <th>date</th>\n",
       "      <th>season</th>\n",
       "      <th>neutral</th>\n",
       "      <th>playoff</th>\n",
       "      <th>team1</th>\n",
       "      <th>team2</th>\n",
       "      <th>elo1</th>\n",
       "      <th>elo2</th>\n",
       "      <th>elo_prob1</th>\n",
       "      <th>score1</th>\n",
       "      <th>score2</th>\n",
       "      <th>result1</th>\n",
       "      <th>result2</th>\n",
       "    </tr>\n",
       "  </thead>\n",
       "  <tbody>\n",
       "    <tr>\n",
       "      <td>117</td>\n",
       "      <td>1921-10-23</td>\n",
       "      <td>1921</td>\n",
       "      <td>0</td>\n",
       "      <td>0</td>\n",
       "      <td>GB</td>\n",
       "      <td>MNN</td>\n",
       "      <td>1413.889</td>\n",
       "      <td>1480.468</td>\n",
       "      <td>0.497728</td>\n",
       "      <td>7</td>\n",
       "      <td>6</td>\n",
       "      <td>1.0</td>\n",
       "      <td>0.0</td>\n",
       "    </tr>\n",
       "    <tr>\n",
       "      <td>118</td>\n",
       "      <td>1921-10-30</td>\n",
       "      <td>1921</td>\n",
       "      <td>0</td>\n",
       "      <td>0</td>\n",
       "      <td>GB</td>\n",
       "      <td>RII</td>\n",
       "      <td>1420.857</td>\n",
       "      <td>1529.741</td>\n",
       "      <td>0.437180</td>\n",
       "      <td>3</td>\n",
       "      <td>13</td>\n",
       "      <td>0.0</td>\n",
       "      <td>1.0</td>\n",
       "    </tr>\n",
       "    <tr>\n",
       "      <td>130</td>\n",
       "      <td>1921-11-06</td>\n",
       "      <td>1921</td>\n",
       "      <td>0</td>\n",
       "      <td>0</td>\n",
       "      <td>GB</td>\n",
       "      <td>ECG</td>\n",
       "      <td>1400.301</td>\n",
       "      <td>1354.267</td>\n",
       "      <td>0.654564</td>\n",
       "      <td>43</td>\n",
       "      <td>6</td>\n",
       "      <td>1.0</td>\n",
       "      <td>0.0</td>\n",
       "    </tr>\n",
       "    <tr>\n",
       "      <td>131</td>\n",
       "      <td>1921-11-13</td>\n",
       "      <td>1921</td>\n",
       "      <td>0</td>\n",
       "      <td>0</td>\n",
       "      <td>GB</td>\n",
       "      <td>HAM</td>\n",
       "      <td>1424.224</td>\n",
       "      <td>1409.054</td>\n",
       "      <td>0.613369</td>\n",
       "      <td>14</td>\n",
       "      <td>7</td>\n",
       "      <td>1.0</td>\n",
       "      <td>0.0</td>\n",
       "    </tr>\n",
       "    <tr>\n",
       "      <td>167</td>\n",
       "      <td>1922-10-08</td>\n",
       "      <td>1922</td>\n",
       "      <td>0</td>\n",
       "      <td>0</td>\n",
       "      <td>GB</td>\n",
       "      <td>RAC</td>\n",
       "      <td>1446.705</td>\n",
       "      <td>1475.580</td>\n",
       "      <td>0.551802</td>\n",
       "      <td>6</td>\n",
       "      <td>10</td>\n",
       "      <td>0.0</td>\n",
       "      <td>1.0</td>\n",
       "    </tr>\n",
       "  </tbody>\n",
       "</table>\n",
       "</div>"
      ],
      "text/plain": [
       "           date  season  neutral  playoff team1 team2      elo1      elo2  \\\n",
       "117  1921-10-23    1921        0        0    GB   MNN  1413.889  1480.468   \n",
       "118  1921-10-30    1921        0        0    GB   RII  1420.857  1529.741   \n",
       "130  1921-11-06    1921        0        0    GB   ECG  1400.301  1354.267   \n",
       "131  1921-11-13    1921        0        0    GB   HAM  1424.224  1409.054   \n",
       "167  1922-10-08    1922        0        0    GB   RAC  1446.705  1475.580   \n",
       "\n",
       "     elo_prob1  score1  score2  result1  result2  \n",
       "117   0.497728       7       6      1.0      0.0  \n",
       "118   0.437180       3      13      0.0      1.0  \n",
       "130   0.654564      43       6      1.0      0.0  \n",
       "131   0.613369      14       7      1.0      0.0  \n",
       "167   0.551802       6      10      0.0      1.0  "
      ]
     },
     "execution_count": 8,
     "metadata": {},
     "output_type": "execute_result"
    }
   ],
   "source": [
    "home.head()"
   ]
  },
  {
   "cell_type": "code",
   "execution_count": 9,
   "metadata": {},
   "outputs": [
    {
     "data": {
      "text/html": [
       "<div>\n",
       "<style scoped>\n",
       "    .dataframe tbody tr th:only-of-type {\n",
       "        vertical-align: middle;\n",
       "    }\n",
       "\n",
       "    .dataframe tbody tr th {\n",
       "        vertical-align: top;\n",
       "    }\n",
       "\n",
       "    .dataframe thead th {\n",
       "        text-align: right;\n",
       "    }\n",
       "</style>\n",
       "<table border=\"1\" class=\"dataframe\">\n",
       "  <thead>\n",
       "    <tr style=\"text-align: right;\">\n",
       "      <th></th>\n",
       "      <th>date</th>\n",
       "      <th>season</th>\n",
       "      <th>neutral</th>\n",
       "      <th>playoff</th>\n",
       "      <th>team1</th>\n",
       "      <th>team2</th>\n",
       "      <th>elo1</th>\n",
       "      <th>elo2</th>\n",
       "      <th>elo_prob1</th>\n",
       "      <th>score1</th>\n",
       "      <th>score2</th>\n",
       "      <th>result1</th>\n",
       "      <th>result2</th>\n",
       "    </tr>\n",
       "  </thead>\n",
       "  <tbody>\n",
       "    <tr>\n",
       "      <td>136</td>\n",
       "      <td>1921-11-20</td>\n",
       "      <td>1921</td>\n",
       "      <td>0</td>\n",
       "      <td>0</td>\n",
       "      <td>ARI</td>\n",
       "      <td>GB</td>\n",
       "      <td>1499.133</td>\n",
       "      <td>1439.739</td>\n",
       "      <td>0.671741</td>\n",
       "      <td>3</td>\n",
       "      <td>3</td>\n",
       "      <td>0.5</td>\n",
       "      <td>0.5</td>\n",
       "    </tr>\n",
       "    <tr>\n",
       "      <td>145</td>\n",
       "      <td>1921-11-27</td>\n",
       "      <td>1921</td>\n",
       "      <td>0</td>\n",
       "      <td>0</td>\n",
       "      <td>CHI</td>\n",
       "      <td>GB</td>\n",
       "      <td>1598.148</td>\n",
       "      <td>1444.976</td>\n",
       "      <td>0.778319</td>\n",
       "      <td>20</td>\n",
       "      <td>0</td>\n",
       "      <td>1.0</td>\n",
       "      <td>0.0</td>\n",
       "    </tr>\n",
       "    <tr>\n",
       "      <td>159</td>\n",
       "      <td>1922-10-01</td>\n",
       "      <td>1922</td>\n",
       "      <td>0</td>\n",
       "      <td>0</td>\n",
       "      <td>RII</td>\n",
       "      <td>GB</td>\n",
       "      <td>1538.640</td>\n",
       "      <td>1456.797</td>\n",
       "      <td>0.699579</td>\n",
       "      <td>19</td>\n",
       "      <td>14</td>\n",
       "      <td>1.0</td>\n",
       "      <td>0.0</td>\n",
       "    </tr>\n",
       "    <tr>\n",
       "      <td>170</td>\n",
       "      <td>1922-10-15</td>\n",
       "      <td>1922</td>\n",
       "      <td>0</td>\n",
       "      <td>0</td>\n",
       "      <td>ARI</td>\n",
       "      <td>GB</td>\n",
       "      <td>1496.457</td>\n",
       "      <td>1428.647</td>\n",
       "      <td>0.682333</td>\n",
       "      <td>16</td>\n",
       "      <td>3</td>\n",
       "      <td>1.0</td>\n",
       "      <td>0.0</td>\n",
       "    </tr>\n",
       "    <tr>\n",
       "      <td>178</td>\n",
       "      <td>1922-10-22</td>\n",
       "      <td>1922</td>\n",
       "      <td>0</td>\n",
       "      <td>0</td>\n",
       "      <td>MIL</td>\n",
       "      <td>GB</td>\n",
       "      <td>1349.001</td>\n",
       "      <td>1412.835</td>\n",
       "      <td>0.501678</td>\n",
       "      <td>0</td>\n",
       "      <td>0</td>\n",
       "      <td>0.5</td>\n",
       "      <td>0.5</td>\n",
       "    </tr>\n",
       "  </tbody>\n",
       "</table>\n",
       "</div>"
      ],
      "text/plain": [
       "           date  season  neutral  playoff team1 team2      elo1      elo2  \\\n",
       "136  1921-11-20    1921        0        0   ARI    GB  1499.133  1439.739   \n",
       "145  1921-11-27    1921        0        0   CHI    GB  1598.148  1444.976   \n",
       "159  1922-10-01    1922        0        0   RII    GB  1538.640  1456.797   \n",
       "170  1922-10-15    1922        0        0   ARI    GB  1496.457  1428.647   \n",
       "178  1922-10-22    1922        0        0   MIL    GB  1349.001  1412.835   \n",
       "\n",
       "     elo_prob1  score1  score2  result1  result2  \n",
       "136   0.671741       3       3      0.5      0.5  \n",
       "145   0.778319      20       0      1.0      0.0  \n",
       "159   0.699579      19      14      1.0      0.0  \n",
       "170   0.682333      16       3      1.0      0.0  \n",
       "178   0.501678       0       0      0.5      0.5  "
      ]
     },
     "execution_count": 9,
     "metadata": {},
     "output_type": "execute_result"
    }
   ],
   "source": [
    "away.head()"
   ]
  },
  {
   "cell_type": "code",
   "execution_count": 10,
   "metadata": {},
   "outputs": [
    {
     "data": {
      "text/html": [
       "<div>\n",
       "<style scoped>\n",
       "    .dataframe tbody tr th:only-of-type {\n",
       "        vertical-align: middle;\n",
       "    }\n",
       "\n",
       "    .dataframe tbody tr th {\n",
       "        vertical-align: top;\n",
       "    }\n",
       "\n",
       "    .dataframe thead th {\n",
       "        text-align: right;\n",
       "    }\n",
       "</style>\n",
       "<table border=\"1\" class=\"dataframe\">\n",
       "  <thead>\n",
       "    <tr style=\"text-align: right;\">\n",
       "      <th></th>\n",
       "      <th>date</th>\n",
       "      <th>season</th>\n",
       "      <th>neutral</th>\n",
       "      <th>playoff</th>\n",
       "      <th>team1</th>\n",
       "      <th>team2</th>\n",
       "      <th>elo1</th>\n",
       "      <th>elo2</th>\n",
       "      <th>elo_prob1</th>\n",
       "      <th>score1</th>\n",
       "      <th>score2</th>\n",
       "      <th>result1</th>\n",
       "      <th>result2</th>\n",
       "    </tr>\n",
       "  </thead>\n",
       "  <tbody>\n",
       "    <tr>\n",
       "      <td>1391</td>\n",
       "      <td>1939-12-10</td>\n",
       "      <td>1939</td>\n",
       "      <td>0</td>\n",
       "      <td>1</td>\n",
       "      <td>GB</td>\n",
       "      <td>NYG</td>\n",
       "      <td>1669.419</td>\n",
       "      <td>1651.181</td>\n",
       "      <td>0.617549</td>\n",
       "      <td>27</td>\n",
       "      <td>0</td>\n",
       "      <td>1.0</td>\n",
       "      <td>0.0</td>\n",
       "    </tr>\n",
       "    <tr>\n",
       "      <td>3194</td>\n",
       "      <td>1961-12-31</td>\n",
       "      <td>1961</td>\n",
       "      <td>0</td>\n",
       "      <td>1</td>\n",
       "      <td>GB</td>\n",
       "      <td>NYG</td>\n",
       "      <td>1671.503</td>\n",
       "      <td>1655.045</td>\n",
       "      <td>0.615126</td>\n",
       "      <td>37</td>\n",
       "      <td>0</td>\n",
       "      <td>1.0</td>\n",
       "      <td>0.0</td>\n",
       "    </tr>\n",
       "    <tr>\n",
       "      <td>3819</td>\n",
       "      <td>1965-12-26</td>\n",
       "      <td>1965</td>\n",
       "      <td>0</td>\n",
       "      <td>1</td>\n",
       "      <td>GB</td>\n",
       "      <td>IND</td>\n",
       "      <td>1648.702</td>\n",
       "      <td>1638.160</td>\n",
       "      <td>0.607032</td>\n",
       "      <td>13</td>\n",
       "      <td>10</td>\n",
       "      <td>1.0</td>\n",
       "      <td>0.0</td>\n",
       "    </tr>\n",
       "    <tr>\n",
       "      <td>3820</td>\n",
       "      <td>1966-01-02</td>\n",
       "      <td>1965</td>\n",
       "      <td>0</td>\n",
       "      <td>1</td>\n",
       "      <td>GB</td>\n",
       "      <td>CLE</td>\n",
       "      <td>1659.236</td>\n",
       "      <td>1590.851</td>\n",
       "      <td>0.683050</td>\n",
       "      <td>23</td>\n",
       "      <td>12</td>\n",
       "      <td>1.0</td>\n",
       "      <td>0.0</td>\n",
       "    </tr>\n",
       "    <tr>\n",
       "      <td>4164</td>\n",
       "      <td>1967-12-23</td>\n",
       "      <td>1967</td>\n",
       "      <td>0</td>\n",
       "      <td>1</td>\n",
       "      <td>GB</td>\n",
       "      <td>LAR</td>\n",
       "      <td>1664.036</td>\n",
       "      <td>1714.908</td>\n",
       "      <td>0.520321</td>\n",
       "      <td>28</td>\n",
       "      <td>7</td>\n",
       "      <td>1.0</td>\n",
       "      <td>0.0</td>\n",
       "    </tr>\n",
       "  </tbody>\n",
       "</table>\n",
       "</div>"
      ],
      "text/plain": [
       "            date  season  neutral  playoff team1 team2      elo1      elo2  \\\n",
       "1391  1939-12-10    1939        0        1    GB   NYG  1669.419  1651.181   \n",
       "3194  1961-12-31    1961        0        1    GB   NYG  1671.503  1655.045   \n",
       "3819  1965-12-26    1965        0        1    GB   IND  1648.702  1638.160   \n",
       "3820  1966-01-02    1965        0        1    GB   CLE  1659.236  1590.851   \n",
       "4164  1967-12-23    1967        0        1    GB   LAR  1664.036  1714.908   \n",
       "\n",
       "      elo_prob1  score1  score2  result1  result2  \n",
       "1391   0.617549      27       0      1.0      0.0  \n",
       "3194   0.615126      37       0      1.0      0.0  \n",
       "3819   0.607032      13      10      1.0      0.0  \n",
       "3820   0.683050      23      12      1.0      0.0  \n",
       "4164   0.520321      28       7      1.0      0.0  "
      ]
     },
     "execution_count": 10,
     "metadata": {},
     "output_type": "execute_result"
    }
   ],
   "source": [
    "home_po.head()"
   ]
  },
  {
   "cell_type": "code",
   "execution_count": 11,
   "metadata": {},
   "outputs": [
    {
     "data": {
      "text/html": [
       "<div>\n",
       "<style scoped>\n",
       "    .dataframe tbody tr th:only-of-type {\n",
       "        vertical-align: middle;\n",
       "    }\n",
       "\n",
       "    .dataframe tbody tr th {\n",
       "        vertical-align: top;\n",
       "    }\n",
       "\n",
       "    .dataframe thead th {\n",
       "        text-align: right;\n",
       "    }\n",
       "</style>\n",
       "<table border=\"1\" class=\"dataframe\">\n",
       "  <thead>\n",
       "    <tr style=\"text-align: right;\">\n",
       "      <th></th>\n",
       "      <th>date</th>\n",
       "      <th>season</th>\n",
       "      <th>neutral</th>\n",
       "      <th>playoff</th>\n",
       "      <th>team1</th>\n",
       "      <th>team2</th>\n",
       "      <th>elo1</th>\n",
       "      <th>elo2</th>\n",
       "      <th>elo_prob1</th>\n",
       "      <th>score1</th>\n",
       "      <th>score2</th>\n",
       "      <th>result1</th>\n",
       "      <th>result2</th>\n",
       "    </tr>\n",
       "  </thead>\n",
       "  <tbody>\n",
       "    <tr>\n",
       "      <td>1223</td>\n",
       "      <td>1936-12-13</td>\n",
       "      <td>1936</td>\n",
       "      <td>0</td>\n",
       "      <td>1</td>\n",
       "      <td>WSH</td>\n",
       "      <td>GB</td>\n",
       "      <td>1514.744</td>\n",
       "      <td>1708.815</td>\n",
       "      <td>0.322350</td>\n",
       "      <td>6</td>\n",
       "      <td>21</td>\n",
       "      <td>0.0</td>\n",
       "      <td>1.0</td>\n",
       "    </tr>\n",
       "    <tr>\n",
       "      <td>1335</td>\n",
       "      <td>1938-12-11</td>\n",
       "      <td>1938</td>\n",
       "      <td>0</td>\n",
       "      <td>1</td>\n",
       "      <td>NYG</td>\n",
       "      <td>GB</td>\n",
       "      <td>1610.677</td>\n",
       "      <td>1648.865</td>\n",
       "      <td>0.538509</td>\n",
       "      <td>23</td>\n",
       "      <td>17</td>\n",
       "      <td>1.0</td>\n",
       "      <td>0.0</td>\n",
       "    </tr>\n",
       "    <tr>\n",
       "      <td>1503</td>\n",
       "      <td>1941-12-14</td>\n",
       "      <td>1941</td>\n",
       "      <td>0</td>\n",
       "      <td>1</td>\n",
       "      <td>CHI</td>\n",
       "      <td>GB</td>\n",
       "      <td>1746.553</td>\n",
       "      <td>1693.589</td>\n",
       "      <td>0.663528</td>\n",
       "      <td>33</td>\n",
       "      <td>14</td>\n",
       "      <td>1.0</td>\n",
       "      <td>0.0</td>\n",
       "    </tr>\n",
       "    <tr>\n",
       "      <td>1653</td>\n",
       "      <td>1944-12-17</td>\n",
       "      <td>1944</td>\n",
       "      <td>0</td>\n",
       "      <td>1</td>\n",
       "      <td>NYG</td>\n",
       "      <td>GB</td>\n",
       "      <td>1641.224</td>\n",
       "      <td>1640.867</td>\n",
       "      <td>0.592962</td>\n",
       "      <td>7</td>\n",
       "      <td>14</td>\n",
       "      <td>0.0</td>\n",
       "      <td>1.0</td>\n",
       "    </tr>\n",
       "    <tr>\n",
       "      <td>3037</td>\n",
       "      <td>1960-12-26</td>\n",
       "      <td>1960</td>\n",
       "      <td>0</td>\n",
       "      <td>1</td>\n",
       "      <td>PHI</td>\n",
       "      <td>GB</td>\n",
       "      <td>1600.941</td>\n",
       "      <td>1619.418</td>\n",
       "      <td>0.566555</td>\n",
       "      <td>17</td>\n",
       "      <td>13</td>\n",
       "      <td>1.0</td>\n",
       "      <td>0.0</td>\n",
       "    </tr>\n",
       "  </tbody>\n",
       "</table>\n",
       "</div>"
      ],
      "text/plain": [
       "            date  season  neutral  playoff team1 team2      elo1      elo2  \\\n",
       "1223  1936-12-13    1936        0        1   WSH    GB  1514.744  1708.815   \n",
       "1335  1938-12-11    1938        0        1   NYG    GB  1610.677  1648.865   \n",
       "1503  1941-12-14    1941        0        1   CHI    GB  1746.553  1693.589   \n",
       "1653  1944-12-17    1944        0        1   NYG    GB  1641.224  1640.867   \n",
       "3037  1960-12-26    1960        0        1   PHI    GB  1600.941  1619.418   \n",
       "\n",
       "      elo_prob1  score1  score2  result1  result2  \n",
       "1223   0.322350       6      21      0.0      1.0  \n",
       "1335   0.538509      23      17      1.0      0.0  \n",
       "1503   0.663528      33      14      1.0      0.0  \n",
       "1653   0.592962       7      14      0.0      1.0  \n",
       "3037   0.566555      17      13      1.0      0.0  "
      ]
     },
     "execution_count": 11,
     "metadata": {},
     "output_type": "execute_result"
    }
   ],
   "source": [
    "away_po.head()"
   ]
  },
  {
   "cell_type": "markdown",
   "metadata": {},
   "source": [
    "It will be interesting to see the regular season & post season win percetages of Green Bay at Lambeau Field (home) vs. away games. The Packers are famous for being excellent at home. Let's see if this is true."
   ]
  },
  {
   "cell_type": "markdown",
   "metadata": {},
   "source": [
    "Calculate the win ratios"
   ]
  },
  {
   "cell_type": "code",
   "execution_count": 12,
   "metadata": {},
   "outputs": [],
   "source": [
    "home_win_pct = home[ [ 'season', 'result1' ] ].groupby( [ 'season' ] ).mean()\n",
    "away_win_pct = away[ [ 'season', 'result2' ] ].groupby( [ 'season' ] ).mean()\n",
    "\n",
    "home_win_pct_po = home_po[ [ 'season', 'result1' ] ].groupby( [ 'season' ] ).mean()\n",
    "away_win_pct_po = away_po[ [ 'season', 'result2' ] ].groupby( [ 'season' ] ).mean()"
   ]
  },
  {
   "cell_type": "markdown",
   "metadata": {},
   "source": [
    "Rename the columns for better data representation"
   ]
  },
  {
   "cell_type": "code",
   "execution_count": 13,
   "metadata": {},
   "outputs": [],
   "source": [
    "home_win_pct = home_win_pct.rename( columns = { 'result1' : 'win_pct' } )\n",
    "away_win_pct = away_win_pct.rename( columns = { 'result2' : 'win_pct' } )\n",
    "\n",
    "home_win_pct_po = home_win_pct_po.rename( columns = { 'result1' : 'win_pct' } )\n",
    "away_win_pct_po = away_win_pct_po.rename( columns = { 'result2' : 'win_pct' } )"
   ]
  },
  {
   "cell_type": "markdown",
   "metadata": {},
   "source": [
    "Transform the ratios to percentages"
   ]
  },
  {
   "cell_type": "code",
   "execution_count": 14,
   "metadata": {},
   "outputs": [],
   "source": [
    "home_win_pct[ 'win_pct' ] = home_win_pct[ 'win_pct' ].apply( lambda x: x * 100 )\n",
    "away_win_pct[ 'win_pct' ] = away_win_pct[ 'win_pct' ].apply( lambda x: x * 100 )\n",
    "\n",
    "home_win_pct_po[ 'win_pct' ] = home_win_pct_po[ 'win_pct' ].apply( lambda x: x * 100 )\n",
    "away_win_pct_po[ 'win_pct' ] = away_win_pct_po[ 'win_pct' ].apply( lambda x: x * 100 )"
   ]
  },
  {
   "cell_type": "markdown",
   "metadata": {},
   "source": [
    "Plot the Green Bay Packers' regular season win percentages"
   ]
  },
  {
   "cell_type": "code",
   "execution_count": 15,
   "metadata": {
    "scrolled": true
   },
   "outputs": [
    {
     "data": {
      "image/png": "[encoded data removed]",
      "text/plain": [
       "<Figure size 1440x576 with 1 Axes>"
      ]
     },
     "metadata": {
      "needs_background": "light"
     },
     "output_type": "display_data"
    }
   ],
   "source": [
    "labels = home_win_pct.index.values.tolist()\n",
    "x = np.arange( len( labels ) )\n",
    "width = 0.35\n",
    "\n",
    "fig, ax = plt.subplots( figsize = (20, 8 ) )\n",
    "rects1 = ax.bar( x - width / 2, home_win_pct[ 'win_pct' ], width, label = 'Home' )\n",
    "rects2 = ax.bar( x + width / 2, away_win_pct[ 'win_pct' ], width, label = 'Away' )\n",
    "\n",
    "ax.set_ylabel( 'Win Percentage' )\n",
    "ax.set_title( 'Green Bay Packers Regular Season Win Percentage' )\n",
    "ax.set_xticks( x )\n",
    "ax.set_xticklabels( labels )\n",
    "ax.legend()\n",
    "\n",
    "plt.xticks( rotation = 90 )\n",
    "\n",
    "fig.tight_layout()\n",
    "plt.show()"
   ]
  },
  {
   "cell_type": "markdown",
   "metadata": {},
   "source": [
    "What a legacy! The Green Bay Packers have been a team for 98 years (as of 2019). From this bar chart, it does appear that the Packers have a higher win percentage at home than they do away; The blue bars seem to peak higher and more frequently above the orange bars throughout seasons; although I will say that the win percentages of away games are pretty high for the most part too. This was just a qualitative look at the regular season win percentages of the Green Bay Packers at home and away games; later, we'll take a more quantitative approach. But let's look at the bar plot for the Packers' post season win percentages."
   ]
  },
  {
   "cell_type": "markdown",
   "metadata": {},
   "source": [
    "Plot the Green Bay Packers' post-season win percentages. Given that not all seasons have a playoff campaign, and not all campaigns have both home and away games, we'll plot these separately."
   ]
  },
  {
   "cell_type": "code",
   "execution_count": 16,
   "metadata": {},
   "outputs": [
    {
     "data": {
      "image/png": "[encoded data removed]",
      "text/plain": [
       "<Figure size 1440x864 with 2 Axes>"
      ]
     },
     "metadata": {
      "needs_background": "light"
     },
     "output_type": "display_data"
    }
   ],
   "source": [
    "home_labels = home_win_pct_po.index.values.tolist()\n",
    "home_x = np.arange( len( home_labels ) )\n",
    "\n",
    "away_labels = away_win_pct_po.index.values.tolist()\n",
    "away_x = np.arange( len( away_labels ) )\n",
    "\n",
    "fig, axs = plt.subplots( 2, 1, figsize = ( 20, 12 ) )\n",
    "rects1 = axs[ 0 ].bar( home_x, home_win_pct_po[ 'win_pct' ] )\n",
    "rects2 = axs[ 1 ].bar( away_x, away_win_pct_po[ 'win_pct' ] )\n",
    "\n",
    "axs[ 0 ].set_ylabel( 'Win Percentage' )\n",
    "axs[ 0 ].set_title( 'Green Bay Packers Post-season Home Win Percentage' )\n",
    "axs[ 0 ].set_xticks( home_x )\n",
    "axs[ 0 ].set_xticklabels( home_labels )\n",
    "\n",
    "axs[ 1 ].set_ylabel( 'Win Percentage' )\n",
    "axs[ 1 ].set_title( 'Green Bay Packers Post-season Away Win Percentage' )\n",
    "axs[ 1 ].set_xticks( away_x )\n",
    "axs[ 1 ].set_xticklabels( away_labels )\n",
    "\n",
    "plt.xticks( rotation = 90 )\n",
    "\n",
    "fig.tight_layout()\n",
    "plt.show()"
   ]
  },
  {
   "cell_type": "markdown",
   "metadata": {},
   "source": [
    "These bar plots, while not as pretty to look at, show some interesting features. Since NFL teams must earn their spot in the post-season, not every Green Bay season has a post season campaign. Also, since the post-season is sudden-death format, meaning that once you lose a game, you're out, the win percentages are either 100% or they're not. The other thing that I'd like to point out is that during the post season during playoff games, teams do play at home or away, but when they reach the Superbowl, the game is hosted at some predetermined stadium, which is generally neither of the teams' home fields (although it could be). In this case, the teams are still designated as home or away, but that doesn't mean they actually get the home-field advantage we observed above. With this said, the Green Bay Packers won the NFL Championships (pre-SuperBowl era) in 1936, 1939, 1944, 1962, and 1965. After the Superbowl was estabished in 1966, the Green Bay Packers won the Superbowl in 1966, 1967, 1996, and 2010. Looking at these years on the bar plots above, all of these post-seasons had 100% win percentages. There are other seasons with 100% win percentages in either the home games or the away games in which they did not win a championship, and that is because the Green Bay Packers switched from having a home or away game in which they won, to an opposite location game in which they lost. These plots also show that the Green Bay Packers have a better win percentage at home than they do away. The Packers won 100% of their home games in 13/19 post season campaigns while only winning 8/24 away games in the post season."
   ]
  },
  {
   "cell_type": "markdown",
   "metadata": {},
   "source": [
    "Now let's take a look at the actual numbers of the home and away games to see if the Packers are quantifiably better at home than they are away. I'll use box and whisker plots to show this."
   ]
  },
  {
   "cell_type": "markdown",
   "metadata": {},
   "source": [
    "Add a column with the location of the game to each of the data sets so that we can join the data sets together"
   ]
  },
  {
   "cell_type": "code",
   "execution_count": 17,
   "metadata": {},
   "outputs": [],
   "source": [
    "home_win_pct[ 'location' ] = 'home'\n",
    "away_win_pct[ 'location' ] = 'away'\n",
    "\n",
    "home_win_pct_po[ 'location' ] = 'home'\n",
    "away_win_pct_po[ 'location' ] = 'away'"
   ]
  },
  {
   "cell_type": "markdown",
   "metadata": {},
   "source": [
    "Combine the regular season data frames together and the post season data frames together"
   ]
  },
  {
   "cell_type": "code",
   "execution_count": 18,
   "metadata": {},
   "outputs": [],
   "source": [
    "regular_seasons = [ home_win_pct, away_win_pct ]\n",
    "post_seasons = [ home_win_pct_po, away_win_pct_po ]\n",
    "\n",
    "regular_season = pd.concat( regular_seasons )\n",
    "post_season = pd.concat( post_seasons )"
   ]
  },
  {
   "cell_type": "code",
   "execution_count": 19,
   "metadata": {},
   "outputs": [
    {
     "data": {
      "text/html": [
       "<div>\n",
       "<style scoped>\n",
       "    .dataframe tbody tr th:only-of-type {\n",
       "        vertical-align: middle;\n",
       "    }\n",
       "\n",
       "    .dataframe tbody tr th {\n",
       "        vertical-align: top;\n",
       "    }\n",
       "\n",
       "    .dataframe thead th {\n",
       "        text-align: right;\n",
       "    }\n",
       "</style>\n",
       "<table border=\"1\" class=\"dataframe\">\n",
       "  <thead>\n",
       "    <tr style=\"text-align: right;\">\n",
       "      <th></th>\n",
       "      <th>win_pct</th>\n",
       "      <th>location</th>\n",
       "    </tr>\n",
       "    <tr>\n",
       "      <th>season</th>\n",
       "      <th></th>\n",
       "      <th></th>\n",
       "    </tr>\n",
       "  </thead>\n",
       "  <tbody>\n",
       "    <tr>\n",
       "      <td>1921</td>\n",
       "      <td>75.000000</td>\n",
       "      <td>home</td>\n",
       "    </tr>\n",
       "    <tr>\n",
       "      <td>1922</td>\n",
       "      <td>70.000000</td>\n",
       "      <td>home</td>\n",
       "    </tr>\n",
       "    <tr>\n",
       "      <td>1923</td>\n",
       "      <td>64.285714</td>\n",
       "      <td>home</td>\n",
       "    </tr>\n",
       "    <tr>\n",
       "      <td>1924</td>\n",
       "      <td>100.000000</td>\n",
       "      <td>home</td>\n",
       "    </tr>\n",
       "    <tr>\n",
       "      <td>1925</td>\n",
       "      <td>100.000000</td>\n",
       "      <td>home</td>\n",
       "    </tr>\n",
       "  </tbody>\n",
       "</table>\n",
       "</div>"
      ],
      "text/plain": [
       "           win_pct location\n",
       "season                     \n",
       "1921     75.000000     home\n",
       "1922     70.000000     home\n",
       "1923     64.285714     home\n",
       "1924    100.000000     home\n",
       "1925    100.000000     home"
      ]
     },
     "execution_count": 19,
     "metadata": {},
     "output_type": "execute_result"
    }
   ],
   "source": [
    "regular_season.head()"
   ]
  },
  {
   "cell_type": "code",
   "execution_count": 20,
   "metadata": {},
   "outputs": [
    {
     "data": {
      "text/html": [
       "<div>\n",
       "<style scoped>\n",
       "    .dataframe tbody tr th:only-of-type {\n",
       "        vertical-align: middle;\n",
       "    }\n",
       "\n",
       "    .dataframe tbody tr th {\n",
       "        vertical-align: top;\n",
       "    }\n",
       "\n",
       "    .dataframe thead th {\n",
       "        text-align: right;\n",
       "    }\n",
       "</style>\n",
       "<table border=\"1\" class=\"dataframe\">\n",
       "  <thead>\n",
       "    <tr style=\"text-align: right;\">\n",
       "      <th></th>\n",
       "      <th>win_pct</th>\n",
       "      <th>location</th>\n",
       "    </tr>\n",
       "    <tr>\n",
       "      <th>season</th>\n",
       "      <th></th>\n",
       "      <th></th>\n",
       "    </tr>\n",
       "  </thead>\n",
       "  <tbody>\n",
       "    <tr>\n",
       "      <td>2014</td>\n",
       "      <td>50.0</td>\n",
       "      <td>away</td>\n",
       "    </tr>\n",
       "    <tr>\n",
       "      <td>2015</td>\n",
       "      <td>62.5</td>\n",
       "      <td>away</td>\n",
       "    </tr>\n",
       "    <tr>\n",
       "      <td>2016</td>\n",
       "      <td>50.0</td>\n",
       "      <td>away</td>\n",
       "    </tr>\n",
       "    <tr>\n",
       "      <td>2017</td>\n",
       "      <td>37.5</td>\n",
       "      <td>away</td>\n",
       "    </tr>\n",
       "    <tr>\n",
       "      <td>2018</td>\n",
       "      <td>12.5</td>\n",
       "      <td>away</td>\n",
       "    </tr>\n",
       "  </tbody>\n",
       "</table>\n",
       "</div>"
      ],
      "text/plain": [
       "        win_pct location\n",
       "season                  \n",
       "2014       50.0     away\n",
       "2015       62.5     away\n",
       "2016       50.0     away\n",
       "2017       37.5     away\n",
       "2018       12.5     away"
      ]
     },
     "execution_count": 20,
     "metadata": {},
     "output_type": "execute_result"
    }
   ],
   "source": [
    "regular_season.tail()"
   ]
  },
  {
   "cell_type": "code",
   "execution_count": 21,
   "metadata": {},
   "outputs": [
    {
     "data": {
      "text/html": [
       "<div>\n",
       "<style scoped>\n",
       "    .dataframe tbody tr th:only-of-type {\n",
       "        vertical-align: middle;\n",
       "    }\n",
       "\n",
       "    .dataframe tbody tr th {\n",
       "        vertical-align: top;\n",
       "    }\n",
       "\n",
       "    .dataframe thead th {\n",
       "        text-align: right;\n",
       "    }\n",
       "</style>\n",
       "<table border=\"1\" class=\"dataframe\">\n",
       "  <thead>\n",
       "    <tr style=\"text-align: right;\">\n",
       "      <th></th>\n",
       "      <th>win_pct</th>\n",
       "      <th>location</th>\n",
       "    </tr>\n",
       "    <tr>\n",
       "      <th>season</th>\n",
       "      <th></th>\n",
       "      <th></th>\n",
       "    </tr>\n",
       "  </thead>\n",
       "  <tbody>\n",
       "    <tr>\n",
       "      <td>1939</td>\n",
       "      <td>100.0</td>\n",
       "      <td>home</td>\n",
       "    </tr>\n",
       "    <tr>\n",
       "      <td>1961</td>\n",
       "      <td>100.0</td>\n",
       "      <td>home</td>\n",
       "    </tr>\n",
       "    <tr>\n",
       "      <td>1965</td>\n",
       "      <td>100.0</td>\n",
       "      <td>home</td>\n",
       "    </tr>\n",
       "    <tr>\n",
       "      <td>1967</td>\n",
       "      <td>100.0</td>\n",
       "      <td>home</td>\n",
       "    </tr>\n",
       "    <tr>\n",
       "      <td>1982</td>\n",
       "      <td>100.0</td>\n",
       "      <td>home</td>\n",
       "    </tr>\n",
       "  </tbody>\n",
       "</table>\n",
       "</div>"
      ],
      "text/plain": [
       "        win_pct location\n",
       "season                  \n",
       "1939      100.0     home\n",
       "1961      100.0     home\n",
       "1965      100.0     home\n",
       "1967      100.0     home\n",
       "1982      100.0     home"
      ]
     },
     "execution_count": 21,
     "metadata": {},
     "output_type": "execute_result"
    }
   ],
   "source": [
    "post_season.head()"
   ]
  },
  {
   "cell_type": "code",
   "execution_count": 22,
   "metadata": {},
   "outputs": [
    {
     "data": {
      "text/html": [
       "<div>\n",
       "<style scoped>\n",
       "    .dataframe tbody tr th:only-of-type {\n",
       "        vertical-align: middle;\n",
       "    }\n",
       "\n",
       "    .dataframe tbody tr th {\n",
       "        vertical-align: top;\n",
       "    }\n",
       "\n",
       "    .dataframe thead th {\n",
       "        text-align: right;\n",
       "    }\n",
       "</style>\n",
       "<table border=\"1\" class=\"dataframe\">\n",
       "  <thead>\n",
       "    <tr style=\"text-align: right;\">\n",
       "      <th></th>\n",
       "      <th>win_pct</th>\n",
       "      <th>location</th>\n",
       "    </tr>\n",
       "    <tr>\n",
       "      <th>season</th>\n",
       "      <th></th>\n",
       "      <th></th>\n",
       "    </tr>\n",
       "  </thead>\n",
       "  <tbody>\n",
       "    <tr>\n",
       "      <td>2010</td>\n",
       "      <td>100.0</td>\n",
       "      <td>away</td>\n",
       "    </tr>\n",
       "    <tr>\n",
       "      <td>2012</td>\n",
       "      <td>0.0</td>\n",
       "      <td>away</td>\n",
       "    </tr>\n",
       "    <tr>\n",
       "      <td>2014</td>\n",
       "      <td>0.0</td>\n",
       "      <td>away</td>\n",
       "    </tr>\n",
       "    <tr>\n",
       "      <td>2015</td>\n",
       "      <td>50.0</td>\n",
       "      <td>away</td>\n",
       "    </tr>\n",
       "    <tr>\n",
       "      <td>2016</td>\n",
       "      <td>50.0</td>\n",
       "      <td>away</td>\n",
       "    </tr>\n",
       "  </tbody>\n",
       "</table>\n",
       "</div>"
      ],
      "text/plain": [
       "        win_pct location\n",
       "season                  \n",
       "2010      100.0     away\n",
       "2012        0.0     away\n",
       "2014        0.0     away\n",
       "2015       50.0     away\n",
       "2016       50.0     away"
      ]
     },
     "execution_count": 22,
     "metadata": {},
     "output_type": "execute_result"
    }
   ],
   "source": [
    "post_season.tail()"
   ]
  },
  {
   "cell_type": "markdown",
   "metadata": {},
   "source": [
    "Create the boxplots of the regular and post season win percentages"
   ]
  },
  {
   "cell_type": "code",
   "execution_count": 23,
   "metadata": {},
   "outputs": [
    {
     "data": {
      "text/plain": [
       "Text(0.5, 1.0, 'Regular Season Home vs. Away Win Percentage of the Green Bay Packers')"
      ]
     },
     "execution_count": 23,
     "metadata": {},
     "output_type": "execute_result"
    },
    {
     "data": {
      "image/png": "[encoded data removed]",
      "text/plain": [
       "<Figure size 432x288 with 1 Axes>"
      ]
     },
     "metadata": {
      "needs_background": "light"
     },
     "output_type": "display_data"
    }
   ],
   "source": [
    "sns.boxplot( y = 'win_pct', x = 'location', data = regular_season, palette = 'muted',\n",
    "             hue = 'location' ).set_title( \n",
    "             \"Regular Season Home vs. Away Win Percentage of the Green Bay Packers\" )"
   ]
  },
  {
   "cell_type": "markdown",
   "metadata": {},
   "source": [
    "Sure enough, the Packers are quantifiably better at home than they are away in the regular season. They have about a 10% higher median win percentage at home than they do away in regular season games. The interquartile range for home games is also much higher on the percentage scale than the IQR for away games. It also looks like the 25th percentile for home game win percentages is either at or slightly above the median for away games, which further enforces the Packers' home field advantage. The maximum win percentage is 100% for both home and away, since they can't win more than 100% of the time, and they've gone undefeated in the regular season multiple times. It's nice to see that the Packers have never had a season where they lost every single home game, but it does look like there have been seasons where the Packers have lost every single away game (oof) when looking at the minimum win percentage. From this, you can infer that the Packers have never had a winless season either."
   ]
  },
  {
   "cell_type": "code",
   "execution_count": 24,
   "metadata": {},
   "outputs": [
    {
     "data": {
      "text/plain": [
       "<matplotlib.legend.Legend at 0xdf82410>"
      ]
     },
     "execution_count": 24,
     "metadata": {},
     "output_type": "execute_result"
    },
    {
     "data": {
      "image/png": "[encoded data removed]",
      "text/plain": [
       "<Figure size 432x288 with 1 Axes>"
      ]
     },
     "metadata": {
      "needs_background": "light"
     },
     "output_type": "display_data"
    }
   ],
   "source": [
    "sns.boxplot( y = 'win_pct', x = 'location', data = post_season, palette = 'muted',\n",
    "             hue = 'location' ).set_title( \n",
    "             \"Post Season Home vs. Away Win Percentage of the Green Bay Packers\" )\n",
    "plt.legend( loc = 'lower center' )"
   ]
  },
  {
   "cell_type": "markdown",
   "metadata": {},
   "source": [
    "These box plots look a little funny. This stems from the fact that as a mentioned earlier, the post season structure is sudden death, so you either win all of them, or you're out after your first loss. The best thing to take away from this plot is that the Packers are still better at home in the post season than they are at away games. This is evidenced by the IQR for home games being above 50% and the IQR for away games spanning from 0-100% - meaning that the majority of home post-season games are distributed above a 50% win percentage, while away post season win percentages are distributed fairly evenly from 0-100%."
   ]
  },
  {
   "cell_type": "markdown",
   "metadata": {},
   "source": [
    "Lastly, let's look at the actual scores of the Green Bay Packers in the regular and post seasons. Theoretically, I would expect that they would score more points at home than they would away since they win more frequently at home, but let's test this hypothesis. We'll use a Violin Plot. Not only will the violin plots show us what the median score of home and away games are in the regular and post seasons, but it will also show us the most common scores of Packers games."
   ]
  },
  {
   "cell_type": "markdown",
   "metadata": {},
   "source": [
    "Get the scores of the games"
   ]
  },
  {
   "cell_type": "code",
   "execution_count": 25,
   "metadata": {},
   "outputs": [],
   "source": [
    "home_scores = home[ [ 'season', 'score1' ] ]\n",
    "away_scores = away[ [ 'season', 'score2' ] ]\n",
    "\n",
    "home_scores_po = home_po[ [ 'season', 'score1' ] ]\n",
    "away_scores_po = away_po[ [ 'season', 'score2' ] ]"
   ]
  },
  {
   "cell_type": "markdown",
   "metadata": {},
   "source": [
    "Rename the score1 and score2 columns to score"
   ]
  },
  {
   "cell_type": "code",
   "execution_count": 26,
   "metadata": {},
   "outputs": [],
   "source": [
    "home_scores = home_scores.rename( columns = { 'score1' : 'score' } )\n",
    "away_scores = away_scores.rename( columns = { 'score2' : 'score' } )\n",
    "\n",
    "home_scores_po = home_scores_po.rename( columns = { 'score1' : 'score' } )\n",
    "away_scores_po = away_scores_po.rename( columns = { 'score2' : 'score' } )"
   ]
  },
  {
   "cell_type": "markdown",
   "metadata": {},
   "source": [
    "Add a column with the location of the game to each of the data sets so that we can join the data sets together"
   ]
  },
  {
   "cell_type": "code",
   "execution_count": 27,
   "metadata": {},
   "outputs": [],
   "source": [
    "home_scores[ 'location' ] = 'home'\n",
    "away_scores[ 'location' ] = 'away'\n",
    "\n",
    "home_scores_po[ 'location' ] = 'home'\n",
    "away_scores_po[ 'location' ] = 'away'"
   ]
  },
  {
   "cell_type": "code",
   "execution_count": 28,
   "metadata": {},
   "outputs": [
    {
     "data": {
      "text/html": [
       "<div>\n",
       "<style scoped>\n",
       "    .dataframe tbody tr th:only-of-type {\n",
       "        vertical-align: middle;\n",
       "    }\n",
       "\n",
       "    .dataframe tbody tr th {\n",
       "        vertical-align: top;\n",
       "    }\n",
       "\n",
       "    .dataframe thead th {\n",
       "        text-align: right;\n",
       "    }\n",
       "</style>\n",
       "<table border=\"1\" class=\"dataframe\">\n",
       "  <thead>\n",
       "    <tr style=\"text-align: right;\">\n",
       "      <th></th>\n",
       "      <th>season</th>\n",
       "      <th>score</th>\n",
       "      <th>location</th>\n",
       "    </tr>\n",
       "  </thead>\n",
       "  <tbody>\n",
       "    <tr>\n",
       "      <td>117</td>\n",
       "      <td>1921</td>\n",
       "      <td>7</td>\n",
       "      <td>home</td>\n",
       "    </tr>\n",
       "    <tr>\n",
       "      <td>118</td>\n",
       "      <td>1921</td>\n",
       "      <td>3</td>\n",
       "      <td>home</td>\n",
       "    </tr>\n",
       "    <tr>\n",
       "      <td>130</td>\n",
       "      <td>1921</td>\n",
       "      <td>43</td>\n",
       "      <td>home</td>\n",
       "    </tr>\n",
       "    <tr>\n",
       "      <td>131</td>\n",
       "      <td>1921</td>\n",
       "      <td>14</td>\n",
       "      <td>home</td>\n",
       "    </tr>\n",
       "    <tr>\n",
       "      <td>167</td>\n",
       "      <td>1922</td>\n",
       "      <td>6</td>\n",
       "      <td>home</td>\n",
       "    </tr>\n",
       "  </tbody>\n",
       "</table>\n",
       "</div>"
      ],
      "text/plain": [
       "     season  score location\n",
       "117    1921      7     home\n",
       "118    1921      3     home\n",
       "130    1921     43     home\n",
       "131    1921     14     home\n",
       "167    1922      6     home"
      ]
     },
     "execution_count": 28,
     "metadata": {},
     "output_type": "execute_result"
    }
   ],
   "source": [
    "home_scores.head()"
   ]
  },
  {
   "cell_type": "code",
   "execution_count": 29,
   "metadata": {},
   "outputs": [
    {
     "data": {
      "text/html": [
       "<div>\n",
       "<style scoped>\n",
       "    .dataframe tbody tr th:only-of-type {\n",
       "        vertical-align: middle;\n",
       "    }\n",
       "\n",
       "    .dataframe tbody tr th {\n",
       "        vertical-align: top;\n",
       "    }\n",
       "\n",
       "    .dataframe thead th {\n",
       "        text-align: right;\n",
       "    }\n",
       "</style>\n",
       "<table border=\"1\" class=\"dataframe\">\n",
       "  <thead>\n",
       "    <tr style=\"text-align: right;\">\n",
       "      <th></th>\n",
       "      <th>season</th>\n",
       "      <th>score</th>\n",
       "      <th>location</th>\n",
       "    </tr>\n",
       "  </thead>\n",
       "  <tbody>\n",
       "    <tr>\n",
       "      <td>136</td>\n",
       "      <td>1921</td>\n",
       "      <td>3</td>\n",
       "      <td>away</td>\n",
       "    </tr>\n",
       "    <tr>\n",
       "      <td>145</td>\n",
       "      <td>1921</td>\n",
       "      <td>0</td>\n",
       "      <td>away</td>\n",
       "    </tr>\n",
       "    <tr>\n",
       "      <td>159</td>\n",
       "      <td>1922</td>\n",
       "      <td>14</td>\n",
       "      <td>away</td>\n",
       "    </tr>\n",
       "    <tr>\n",
       "      <td>170</td>\n",
       "      <td>1922</td>\n",
       "      <td>3</td>\n",
       "      <td>away</td>\n",
       "    </tr>\n",
       "    <tr>\n",
       "      <td>178</td>\n",
       "      <td>1922</td>\n",
       "      <td>0</td>\n",
       "      <td>away</td>\n",
       "    </tr>\n",
       "  </tbody>\n",
       "</table>\n",
       "</div>"
      ],
      "text/plain": [
       "     season  score location\n",
       "136    1921      3     away\n",
       "145    1921      0     away\n",
       "159    1922     14     away\n",
       "170    1922      3     away\n",
       "178    1922      0     away"
      ]
     },
     "execution_count": 29,
     "metadata": {},
     "output_type": "execute_result"
    }
   ],
   "source": [
    "away_scores.head()"
   ]
  },
  {
   "cell_type": "code",
   "execution_count": 30,
   "metadata": {},
   "outputs": [
    {
     "data": {
      "text/html": [
       "<div>\n",
       "<style scoped>\n",
       "    .dataframe tbody tr th:only-of-type {\n",
       "        vertical-align: middle;\n",
       "    }\n",
       "\n",
       "    .dataframe tbody tr th {\n",
       "        vertical-align: top;\n",
       "    }\n",
       "\n",
       "    .dataframe thead th {\n",
       "        text-align: right;\n",
       "    }\n",
       "</style>\n",
       "<table border=\"1\" class=\"dataframe\">\n",
       "  <thead>\n",
       "    <tr style=\"text-align: right;\">\n",
       "      <th></th>\n",
       "      <th>season</th>\n",
       "      <th>score</th>\n",
       "      <th>location</th>\n",
       "    </tr>\n",
       "  </thead>\n",
       "  <tbody>\n",
       "    <tr>\n",
       "      <td>1391</td>\n",
       "      <td>1939</td>\n",
       "      <td>27</td>\n",
       "      <td>home</td>\n",
       "    </tr>\n",
       "    <tr>\n",
       "      <td>3194</td>\n",
       "      <td>1961</td>\n",
       "      <td>37</td>\n",
       "      <td>home</td>\n",
       "    </tr>\n",
       "    <tr>\n",
       "      <td>3819</td>\n",
       "      <td>1965</td>\n",
       "      <td>13</td>\n",
       "      <td>home</td>\n",
       "    </tr>\n",
       "    <tr>\n",
       "      <td>3820</td>\n",
       "      <td>1965</td>\n",
       "      <td>23</td>\n",
       "      <td>home</td>\n",
       "    </tr>\n",
       "    <tr>\n",
       "      <td>4164</td>\n",
       "      <td>1967</td>\n",
       "      <td>28</td>\n",
       "      <td>home</td>\n",
       "    </tr>\n",
       "  </tbody>\n",
       "</table>\n",
       "</div>"
      ],
      "text/plain": [
       "      season  score location\n",
       "1391    1939     27     home\n",
       "3194    1961     37     home\n",
       "3819    1965     13     home\n",
       "3820    1965     23     home\n",
       "4164    1967     28     home"
      ]
     },
     "execution_count": 30,
     "metadata": {},
     "output_type": "execute_result"
    }
   ],
   "source": [
    "home_scores_po.head()"
   ]
  },
  {
   "cell_type": "code",
   "execution_count": 31,
   "metadata": {},
   "outputs": [
    {
     "data": {
      "text/html": [
       "<div>\n",
       "<style scoped>\n",
       "    .dataframe tbody tr th:only-of-type {\n",
       "        vertical-align: middle;\n",
       "    }\n",
       "\n",
       "    .dataframe tbody tr th {\n",
       "        vertical-align: top;\n",
       "    }\n",
       "\n",
       "    .dataframe thead th {\n",
       "        text-align: right;\n",
       "    }\n",
       "</style>\n",
       "<table border=\"1\" class=\"dataframe\">\n",
       "  <thead>\n",
       "    <tr style=\"text-align: right;\">\n",
       "      <th></th>\n",
       "      <th>season</th>\n",
       "      <th>score</th>\n",
       "      <th>location</th>\n",
       "    </tr>\n",
       "  </thead>\n",
       "  <tbody>\n",
       "    <tr>\n",
       "      <td>1223</td>\n",
       "      <td>1936</td>\n",
       "      <td>21</td>\n",
       "      <td>away</td>\n",
       "    </tr>\n",
       "    <tr>\n",
       "      <td>1335</td>\n",
       "      <td>1938</td>\n",
       "      <td>17</td>\n",
       "      <td>away</td>\n",
       "    </tr>\n",
       "    <tr>\n",
       "      <td>1503</td>\n",
       "      <td>1941</td>\n",
       "      <td>14</td>\n",
       "      <td>away</td>\n",
       "    </tr>\n",
       "    <tr>\n",
       "      <td>1653</td>\n",
       "      <td>1944</td>\n",
       "      <td>14</td>\n",
       "      <td>away</td>\n",
       "    </tr>\n",
       "    <tr>\n",
       "      <td>3037</td>\n",
       "      <td>1960</td>\n",
       "      <td>13</td>\n",
       "      <td>away</td>\n",
       "    </tr>\n",
       "  </tbody>\n",
       "</table>\n",
       "</div>"
      ],
      "text/plain": [
       "      season  score location\n",
       "1223    1936     21     away\n",
       "1335    1938     17     away\n",
       "1503    1941     14     away\n",
       "1653    1944     14     away\n",
       "3037    1960     13     away"
      ]
     },
     "execution_count": 31,
     "metadata": {},
     "output_type": "execute_result"
    }
   ],
   "source": [
    "away_scores_po.head()"
   ]
  },
  {
   "cell_type": "markdown",
   "metadata": {},
   "source": [
    "Combine the regular season data frames together and combine the post season data frames together"
   ]
  },
  {
   "cell_type": "code",
   "execution_count": 32,
   "metadata": {},
   "outputs": [],
   "source": [
    "regular_seasons_scores = [ home_scores, away_scores ]\n",
    "post_seasons_scores = [ home_scores_po, away_scores_po ]\n",
    "\n",
    "regular_season_scores = pd.concat( regular_seasons_scores )\n",
    "post_season_scores = pd.concat( post_seasons_scores )"
   ]
  },
  {
   "cell_type": "code",
   "execution_count": 33,
   "metadata": {},
   "outputs": [
    {
     "data": {
      "text/html": [
       "<div>\n",
       "<style scoped>\n",
       "    .dataframe tbody tr th:only-of-type {\n",
       "        vertical-align: middle;\n",
       "    }\n",
       "\n",
       "    .dataframe tbody tr th {\n",
       "        vertical-align: top;\n",
       "    }\n",
       "\n",
       "    .dataframe thead th {\n",
       "        text-align: right;\n",
       "    }\n",
       "</style>\n",
       "<table border=\"1\" class=\"dataframe\">\n",
       "  <thead>\n",
       "    <tr style=\"text-align: right;\">\n",
       "      <th></th>\n",
       "      <th>season</th>\n",
       "      <th>score</th>\n",
       "      <th>location</th>\n",
       "    </tr>\n",
       "  </thead>\n",
       "  <tbody>\n",
       "    <tr>\n",
       "      <td>117</td>\n",
       "      <td>1921</td>\n",
       "      <td>7</td>\n",
       "      <td>home</td>\n",
       "    </tr>\n",
       "    <tr>\n",
       "      <td>118</td>\n",
       "      <td>1921</td>\n",
       "      <td>3</td>\n",
       "      <td>home</td>\n",
       "    </tr>\n",
       "    <tr>\n",
       "      <td>130</td>\n",
       "      <td>1921</td>\n",
       "      <td>43</td>\n",
       "      <td>home</td>\n",
       "    </tr>\n",
       "    <tr>\n",
       "      <td>131</td>\n",
       "      <td>1921</td>\n",
       "      <td>14</td>\n",
       "      <td>home</td>\n",
       "    </tr>\n",
       "    <tr>\n",
       "      <td>167</td>\n",
       "      <td>1922</td>\n",
       "      <td>6</td>\n",
       "      <td>home</td>\n",
       "    </tr>\n",
       "  </tbody>\n",
       "</table>\n",
       "</div>"
      ],
      "text/plain": [
       "     season  score location\n",
       "117    1921      7     home\n",
       "118    1921      3     home\n",
       "130    1921     43     home\n",
       "131    1921     14     home\n",
       "167    1922      6     home"
      ]
     },
     "execution_count": 33,
     "metadata": {},
     "output_type": "execute_result"
    }
   ],
   "source": [
    "regular_season_scores.head()"
   ]
  },
  {
   "cell_type": "code",
   "execution_count": 34,
   "metadata": {},
   "outputs": [
    {
     "data": {
      "text/html": [
       "<div>\n",
       "<style scoped>\n",
       "    .dataframe tbody tr th:only-of-type {\n",
       "        vertical-align: middle;\n",
       "    }\n",
       "\n",
       "    .dataframe tbody tr th {\n",
       "        vertical-align: top;\n",
       "    }\n",
       "\n",
       "    .dataframe thead th {\n",
       "        text-align: right;\n",
       "    }\n",
       "</style>\n",
       "<table border=\"1\" class=\"dataframe\">\n",
       "  <thead>\n",
       "    <tr style=\"text-align: right;\">\n",
       "      <th></th>\n",
       "      <th>season</th>\n",
       "      <th>score</th>\n",
       "      <th>location</th>\n",
       "    </tr>\n",
       "  </thead>\n",
       "  <tbody>\n",
       "    <tr>\n",
       "      <td>16139</td>\n",
       "      <td>2018</td>\n",
       "      <td>17</td>\n",
       "      <td>away</td>\n",
       "    </tr>\n",
       "    <tr>\n",
       "      <td>16155</td>\n",
       "      <td>2018</td>\n",
       "      <td>24</td>\n",
       "      <td>away</td>\n",
       "    </tr>\n",
       "    <tr>\n",
       "      <td>16181</td>\n",
       "      <td>2018</td>\n",
       "      <td>17</td>\n",
       "      <td>away</td>\n",
       "    </tr>\n",
       "    <tr>\n",
       "      <td>16219</td>\n",
       "      <td>2018</td>\n",
       "      <td>17</td>\n",
       "      <td>away</td>\n",
       "    </tr>\n",
       "    <tr>\n",
       "      <td>16235</td>\n",
       "      <td>2018</td>\n",
       "      <td>44</td>\n",
       "      <td>away</td>\n",
       "    </tr>\n",
       "  </tbody>\n",
       "</table>\n",
       "</div>"
      ],
      "text/plain": [
       "       season  score location\n",
       "16139    2018     17     away\n",
       "16155    2018     24     away\n",
       "16181    2018     17     away\n",
       "16219    2018     17     away\n",
       "16235    2018     44     away"
      ]
     },
     "execution_count": 34,
     "metadata": {},
     "output_type": "execute_result"
    }
   ],
   "source": [
    "regular_season_scores.tail()"
   ]
  },
  {
   "cell_type": "code",
   "execution_count": 35,
   "metadata": {},
   "outputs": [
    {
     "data": {
      "text/html": [
       "<div>\n",
       "<style scoped>\n",
       "    .dataframe tbody tr th:only-of-type {\n",
       "        vertical-align: middle;\n",
       "    }\n",
       "\n",
       "    .dataframe tbody tr th {\n",
       "        vertical-align: top;\n",
       "    }\n",
       "\n",
       "    .dataframe thead th {\n",
       "        text-align: right;\n",
       "    }\n",
       "</style>\n",
       "<table border=\"1\" class=\"dataframe\">\n",
       "  <thead>\n",
       "    <tr style=\"text-align: right;\">\n",
       "      <th></th>\n",
       "      <th>season</th>\n",
       "      <th>score</th>\n",
       "      <th>location</th>\n",
       "    </tr>\n",
       "  </thead>\n",
       "  <tbody>\n",
       "    <tr>\n",
       "      <td>1391</td>\n",
       "      <td>1939</td>\n",
       "      <td>27</td>\n",
       "      <td>home</td>\n",
       "    </tr>\n",
       "    <tr>\n",
       "      <td>3194</td>\n",
       "      <td>1961</td>\n",
       "      <td>37</td>\n",
       "      <td>home</td>\n",
       "    </tr>\n",
       "    <tr>\n",
       "      <td>3819</td>\n",
       "      <td>1965</td>\n",
       "      <td>13</td>\n",
       "      <td>home</td>\n",
       "    </tr>\n",
       "    <tr>\n",
       "      <td>3820</td>\n",
       "      <td>1965</td>\n",
       "      <td>23</td>\n",
       "      <td>home</td>\n",
       "    </tr>\n",
       "    <tr>\n",
       "      <td>4164</td>\n",
       "      <td>1967</td>\n",
       "      <td>28</td>\n",
       "      <td>home</td>\n",
       "    </tr>\n",
       "  </tbody>\n",
       "</table>\n",
       "</div>"
      ],
      "text/plain": [
       "      season  score location\n",
       "1391    1939     27     home\n",
       "3194    1961     37     home\n",
       "3819    1965     13     home\n",
       "3820    1965     23     home\n",
       "4164    1967     28     home"
      ]
     },
     "execution_count": 35,
     "metadata": {},
     "output_type": "execute_result"
    }
   ],
   "source": [
    "post_season_scores.head()"
   ]
  },
  {
   "cell_type": "code",
   "execution_count": 36,
   "metadata": {},
   "outputs": [
    {
     "data": {
      "text/html": [
       "<div>\n",
       "<style scoped>\n",
       "    .dataframe tbody tr th:only-of-type {\n",
       "        vertical-align: middle;\n",
       "    }\n",
       "\n",
       "    .dataframe tbody tr th {\n",
       "        vertical-align: top;\n",
       "    }\n",
       "\n",
       "    .dataframe thead th {\n",
       "        text-align: right;\n",
       "    }\n",
       "</style>\n",
       "<table border=\"1\" class=\"dataframe\">\n",
       "  <thead>\n",
       "    <tr style=\"text-align: right;\">\n",
       "      <th></th>\n",
       "      <th>season</th>\n",
       "      <th>score</th>\n",
       "      <th>location</th>\n",
       "    </tr>\n",
       "  </thead>\n",
       "  <tbody>\n",
       "    <tr>\n",
       "      <td>15204</td>\n",
       "      <td>2014</td>\n",
       "      <td>22</td>\n",
       "      <td>away</td>\n",
       "    </tr>\n",
       "    <tr>\n",
       "      <td>15465</td>\n",
       "      <td>2015</td>\n",
       "      <td>35</td>\n",
       "      <td>away</td>\n",
       "    </tr>\n",
       "    <tr>\n",
       "      <td>15467</td>\n",
       "      <td>2015</td>\n",
       "      <td>20</td>\n",
       "      <td>away</td>\n",
       "    </tr>\n",
       "    <tr>\n",
       "      <td>15735</td>\n",
       "      <td>2016</td>\n",
       "      <td>34</td>\n",
       "      <td>away</td>\n",
       "    </tr>\n",
       "    <tr>\n",
       "      <td>15737</td>\n",
       "      <td>2016</td>\n",
       "      <td>21</td>\n",
       "      <td>away</td>\n",
       "    </tr>\n",
       "  </tbody>\n",
       "</table>\n",
       "</div>"
      ],
      "text/plain": [
       "       season  score location\n",
       "15204    2014     22     away\n",
       "15465    2015     35     away\n",
       "15467    2015     20     away\n",
       "15735    2016     34     away\n",
       "15737    2016     21     away"
      ]
     },
     "execution_count": 36,
     "metadata": {},
     "output_type": "execute_result"
    }
   ],
   "source": [
    "post_season_scores.tail()"
   ]
  },
  {
   "cell_type": "markdown",
   "metadata": {},
   "source": [
    "Create the violin plots for the regular and post season scores"
   ]
  },
  {
   "cell_type": "code",
   "execution_count": 37,
   "metadata": {},
   "outputs": [
    {
     "data": {
      "text/plain": [
       "Text(0.5, 1.0, 'Regular Season Home vs. Away Scores of the Green Bay Packers')"
      ]
     },
     "execution_count": 37,
     "metadata": {},
     "output_type": "execute_result"
    },
    {
     "data": {
      "image/png": "[encoded data removed]",
      "text/plain": [
       "<Figure size 432x288 with 1 Axes>"
      ]
     },
     "metadata": {
      "needs_background": "light"
     },
     "output_type": "display_data"
    }
   ],
   "source": [
    "sns.violinplot( y = 'score', x = 'location', data = regular_season_scores, palette = 'muted',\n",
    "             hue = 'location' ).set_title( \n",
    "             \"Regular Season Home vs. Away Scores of the Green Bay Packers\" )"
   ]
  },
  {
   "cell_type": "markdown",
   "metadata": {},
   "source": [
    "Interestingly enough, there doesn't seem to be much difference between scores of the Green Bay Packers in home and away games in the regular season. The median score for both home and away games appears to be almost exactly the same. However, it does look like the IQR for regular season home game scores is slightly higher than the IQR for away game scores, and also that the highest density of scores for home games is skewed slightly higher for home games than away games, as the violin for away gamess has a wider bottom than the violin for home games. The maximum score for home games is also slightly higher than the maximum score for away games. None of theses differences really appear to be statistically significant though."
   ]
  },
  {
   "cell_type": "code",
   "execution_count": 38,
   "metadata": {},
   "outputs": [
    {
     "data": {
      "text/plain": [
       "<matplotlib.legend.Legend at 0xe040690>"
      ]
     },
     "execution_count": 38,
     "metadata": {},
     "output_type": "execute_result"
    },
    {
     "data": {
      "image/png": "[encoded data removed]",
      "text/plain": [
       "<Figure size 432x288 with 1 Axes>"
      ]
     },
     "metadata": {
      "needs_background": "light"
     },
     "output_type": "display_data"
    }
   ],
   "source": [
    "sns.violinplot( y = 'score', x = 'location', data = post_season_scores, palette = 'muted',\n",
    "             hue = 'location' ).set_title( \n",
    "             \"Post Season Home vs. Away Scores of the Green Bay Packers\" )\n",
    "plt.legend( loc = 'lower center' )"
   ]
  },
  {
   "cell_type": "markdown",
   "metadata": {},
   "source": [
    "The violin plot for the Green Bay Packers' post season scores also doesn't show much difference between scores of home and away games. The median scores of home and away games appears to be only slightly different, and the same statement holds true for the IQR of both home and away games in the post-season. The maximum score for away post season games is actually higher than the maximum score for home post season games, but it does appear that home games had a slight skew towards higher scores in the post season, as evidenced by the wider top of the blue violin."
   ]
  },
  {
   "cell_type": "markdown",
   "metadata": {},
   "source": [
    "In conclusion, the Green Bay Packers are better at home games than they are at away games in both the regular season and post season."
   ]
  }
 ],
 "metadata": {
  "kernelspec": {
   "display_name": "Python 3",
   "language": "python",
   "name": "python3"
  },
  "language_info": {
   "codemirror_mode": {
    "name": "ipython",
    "version": 3
   },
   "file_extension": ".py",
   "mimetype": "text/x-python",
   "name": "python",
   "nbconvert_exporter": "python",
   "pygments_lexer": "ipython3",
   "version": "3.7.4"
  },
  "varInspector": {
   "cols": {
    "lenName": 16,
    "lenType": 16,
    "lenVar": 40
   },
   "kernels_config": {
    "python": {
     "delete_cmd_postfix": "",
     "delete_cmd_prefix": "del ",
     "library": "var_list.py",
     "varRefreshCmd": "print(var_dic_list())"
    },
    "r": {
     "delete_cmd_postfix": ") ",
     "delete_cmd_prefix": "rm(",
     "library": "var_list.r",
     "varRefreshCmd": "cat(var_dic_list()) "
    }
   },
   "types_to_exclude": [
    "module",
    "function",
    "builtin_function_or_method",
    "instance",
    "_Feature"
   ],
   "window_display": false
  }
 },
 "nbformat": 4,
 "nbformat_minor": 2
}
